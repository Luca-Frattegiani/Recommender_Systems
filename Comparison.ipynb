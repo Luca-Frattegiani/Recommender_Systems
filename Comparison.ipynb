{
 "cells": [
  {
   "cell_type": "markdown",
   "metadata": {},
   "source": [
    "### Comparison between Recommended Systems"
   ]
  },
  {
   "cell_type": "markdown",
   "metadata": {},
   "source": [
    "**Data and libraries:**"
   ]
  },
  {
   "cell_type": "code",
   "execution_count": 1,
   "metadata": {},
   "outputs": [],
   "source": [
    "#Libraries for time computation and data importation:\n",
    "import time\n",
    "import os\n",
    "\n",
    "#Libraries to manage the Interaction Matrix:\n",
    "import pandas as pd\n",
    "import numpy as np\n",
    "\n",
    "#Utility Functions:\n",
    "import utils\n",
    "from utils import *\n",
    "\n",
    "#Data Structures:\n",
    "import DataStructures\n",
    "from DataStructures import *"
   ]
  },
  {
   "cell_type": "code",
   "execution_count": 2,
   "metadata": {},
   "outputs": [],
   "source": [
    "#Data importation:\n",
    "path = os.path.join(os.getcwd(), \"data_s.csv\")\n",
    "df = pd.read_csv(path)"
   ]
  },
  {
   "cell_type": "markdown",
   "metadata": {},
   "source": [
    "**Collaborative user-based:**"
   ]
  },
  {
   "cell_type": "code",
   "execution_count": 9,
   "metadata": {},
   "outputs": [],
   "source": [
    "#Select only users with a certain number of features to make the comparison:\n",
    "def select(data, target, threshold = 0.33):\n",
    "    valid = data.iloc[target][np.isnan(data.iloc[target]) == False].index\n",
    "    r = len(valid)\n",
    "    \n",
    "    unmatches = data[valid].drop(target).isnull().sum(axis = 1)\n",
    "    acceptable = unmatches[unmatches <= round((1 - threshold)*r, 0)].index\n",
    "    \n",
    "    if len(acceptable) == 0:\n",
    "        return data.drop(target).index\n",
    "    \n",
    "    return (acceptable, valid)\n",
    "    \n",
    "#Algorithm to order the nearest neighbors:\n",
    "def nearestUB(data, target):\n",
    "    indexes, valid = select(data, target)\n",
    "    \n",
    "    distances = MaxHeap()\n",
    "    for user in indexes:\n",
    "        distances.insert(cosine(data.iloc[target].values, data.iloc[user].values), user)\n",
    "            \n",
    "    return (distances, valid)\n",
    "\n",
    "#Assign a predicted rating to an unseen item:\n",
    "def compute_ratings(data, neighbors, valid, target, k = 10):\n",
    "    predictions = list()\n",
    "    \n",
    "    unseen = data.columns.drop(valid)\n",
    "    \n",
    "    nearest = list()\n",
    "    for iteration in range(k):\n",
    "        nearest.append(neighbors.delete()[1])\n",
    "    \n",
    "    for item in unseen:\n",
    "        rating = False\n",
    "        n_comparison = 0\n",
    "        for iteration in range(k):\n",
    "            neighbor = nearest[iteration]\n",
    "            if item in data.iloc[neighbor][np.isnan(data.iloc[neighbor]) == False].index:\n",
    "                rating += data.iloc[neighbor][item]\n",
    "                n_comparison += 1\n",
    "        if rating:\n",
    "            rating = rating/n_comparison\n",
    "            predictions.append((rating, item))\n",
    "    \n",
    "    return predictions\n",
    "\n",
    "#Return suggestions:\n",
    "def suggestUB(target, ratings):    \n",
    "    recommandations = {\n",
    "        \"Strongly Recommended\" : list(),\n",
    "        \"Recommended\" : list(),\n",
    "        \"Not Recommended\" : list()\n",
    "    }\n",
    "    \n",
    "    while len(ratings) > 0:\n",
    "        rating, item = ratings.pop()\n",
    "        if rating >= 4:\n",
    "            recommandations[\"Strongly Recommended\"].append(item)\n",
    "        elif rating >= 3:\n",
    "            recommandations[\"Recommended\"].append(item)\n",
    "        else:\n",
    "            recommandations[\"Not Recommended\"].append(item)\n",
    "    \n",
    "    return recommandations"
   ]
  },
  {
   "cell_type": "markdown",
   "metadata": {},
   "source": [
    "**Collaborative Matrix Factorization:**"
   ]
  },
  {
   "cell_type": "code",
   "execution_count": 4,
   "metadata": {},
   "outputs": [],
   "source": [
    "#Non-negative Factorization of the Interaction Matrix:\n",
    "def factorization(data, n_factors, steps = 200, alpha = 0.0002, beta = 0.02):\n",
    "    n = data.shape[0]\n",
    "    m = data.shape[1]\n",
    "    data = np.array(data)\n",
    "    U = np.random.rand(n, n_factors)\n",
    "    I = np.random.rand(n_factors, m)\n",
    "    \n",
    "    for iteration in range(steps):\n",
    "        for user in range(n):\n",
    "            for item in range(m):\n",
    "                if data[user][item] > 0:\n",
    "                    eij = data[user][item] - np.dot(U[user, :], I[:, item])\n",
    "                    for factor in range(n_factors):\n",
    "                        U[user][factor] = U[user][factor] + 2*alpha*(eij * I[factor][item] - beta * U[user][factor])\n",
    "                        I[factor][item] = I[factor][item] + 2*alpha*(eij * U[user][factor] - beta * I[factor][item])\n",
    "        E = 0\n",
    "        for user in range(n):\n",
    "            for item in range(m):\n",
    "                if data[user][item] > 0:\n",
    "                    E = E + (data[user][item] - np.dot(U[user, :], I[:, item]))**2\n",
    "                    for factor in range(n_factors):\n",
    "                        E = E + (beta/2) * ((U[user][factor])**2 + (I[factor][item])**2)\n",
    "        if E < 0.001:\n",
    "            break\n",
    "            \n",
    "    return (U, I, E)\n",
    "\n",
    "def suggestMF(data, factorized, target):\n",
    "    unseen = data.iloc[target][np.isnan(data.iloc[target])].index\n",
    "    \n",
    "    recommandations = {\n",
    "    \"Strongly Recommended\" : list(),\n",
    "    \"Recommended\" : list(),\n",
    "    \"Not Recommended\" : list()\n",
    "    }\n",
    "    \n",
    "    for item in unseen:\n",
    "        rating = factorized.iloc[target][item]\n",
    "        \n",
    "        if rating >= 4:\n",
    "            recommandations[\"Strongly Recommended\"].append(item)\n",
    "        elif rating >= 3:\n",
    "            recommandations[\"Recommended\"].append(item)\n",
    "        else:\n",
    "            recommandations[\"Not Recommended\"].append(item)\n",
    "\n",
    "    return recommandations"
   ]
  },
  {
   "cell_type": "markdown",
   "metadata": {},
   "source": [
    "**Collaborative item-based:**"
   ]
  },
  {
   "cell_type": "code",
   "execution_count": 5,
   "metadata": {},
   "outputs": [],
   "source": [
    "#Algorithm to select the film preferred by a user:\n",
    "def search_favourite(data, target, unseen):\n",
    "    valid_i = data.iloc[target].drop(unseen).index\n",
    "    valid_r = data.iloc[target][valid_i]\n",
    "    \n",
    "    favourites = Queue_c(len(valid_i) + 1)\n",
    "    favourites.enqueue(valid_r[0], valid_i[0])\n",
    "    best = valid_r[0]\n",
    "    \n",
    "    for (rating, item) in zip(valid_r, valid_i):\n",
    "        if rating >= best:\n",
    "            favourites.enqueue(rating, item)\n",
    "            best = rating\n",
    "\n",
    "    while favourites.first_in()[0] < best:\n",
    "        favourites.dequeue()\n",
    "    \n",
    "    return favourites\n",
    "\n",
    "def nearestIB(data, target, favourites, unseen):    \n",
    "    nearest = {}\n",
    "    while not favourites.is_empty():\n",
    "        favourite = favourites.dequeue()[1]\n",
    "        \n",
    "        neighbors = MaxHeap()\n",
    "\n",
    "        for item in unseen:\n",
    "            neighbors.insert(cosine(data[item].values, data[favourite].values), item)\n",
    "\n",
    "        nearest[favourite] = neighbors\n",
    "        \n",
    "    return nearest\n",
    "\n",
    "def suggestIB(target, nearest, unseen, k = 3):\n",
    "    suggestions = {}\n",
    "    unseen = list(unseen)\n",
    "    \n",
    "    for favourite in nearest.keys():\n",
    "        iteration = k\n",
    "        neighbors = nearest[favourite]\n",
    "        \n",
    "        while (iteration > 0) and (neighbors.size > 0):\n",
    "            suggested = neighbors.delete()[1]\n",
    "            if suggested not in suggestions.keys():\n",
    "                suggestions[suggested] = \"Recommended\"\n",
    "                unseen.remove(suggested)\n",
    "            else:\n",
    "                suggestions[suggested] = \"Strongly Recommended\"\n",
    "            iteration -= 1\n",
    "    \n",
    "    for item in unseen:\n",
    "        suggestions[item] = \"Not Recommended\"\n",
    "    \n",
    "    return suggestions"
   ]
  },
  {
   "cell_type": "markdown",
   "metadata": {},
   "source": [
    "### Functions for the comparison:"
   ]
  },
  {
   "cell_type": "code",
   "execution_count": 6,
   "metadata": {},
   "outputs": [],
   "source": [
    "#Function to evaluate similarity between recommendations:\n",
    "def encoding(data, target, predictions):\n",
    "    \"\"\"\n",
    "    FUNCTION:\n",
    "    Turns the Dictionary of recommendations into a vector that associates a class of suggestion to each item.\n",
    "    \n",
    "    PARAMETERS:\n",
    "    data -> Pandas Dataframe with the user-item Interaction Matrix.\n",
    "    target -> Target user.\n",
    "    predictions -> Dictionary containing the suggesitons.\n",
    "\n",
    "    RETURNS:\n",
    "    Dictionary containing the suggested items with their proper class of suggestion.\n",
    "    \"\"\"\n",
    "    unseen = data.iloc[target][np.isnan(data.iloc[target])].index\n",
    "    \n",
    "    suggestions = {}\n",
    "    for item in unseen:\n",
    "        if item in predictions[\"Strongly Recommended\"]:\n",
    "            suggestions[item] = \"Strongly Recommended\"\n",
    "        elif item in predictions[\"Recommended\"]:\n",
    "            suggestions[item] = \"Recommended\"\n",
    "        elif item in predictions[\"Not Recommended\"]:\n",
    "            suggestions[item] = \"Not Recommended\"\n",
    "        else:\n",
    "            suggestions[item] = None\n",
    "    \n",
    "    return suggestions\n",
    "\n",
    "def compare(data, target, suggestion_1, suggestion_2):\n",
    "    \"\"\"\n",
    "    FUNCTION:\n",
    "    Evaluate similarity between two different recommendations.\n",
    "    \n",
    "    PARAMETERS:\n",
    "    data -> Pandas Dataframe with the user-item Interaction Matrix.\n",
    "    target -> Target user.\n",
    "    suggestion_1 -> Dictionary containing the class of suggestions for each item suggested to the target user by the first system.\n",
    "    suggestion_2 -> Dictionary containing the class of suggestions for each item suggested to the target user by the second system.\n",
    "    \n",
    "    RETURNS:\n",
    "    Measure of similarity.\n",
    "    \"\"\"\n",
    "    score = 0\n",
    "    unseen = data.iloc[target][np.isnan(data.iloc[target])].index\n",
    "    \n",
    "    if len(unseen) > 0:\n",
    "        for item in suggestion_1.keys():\n",
    "            if suggestion_1[item] == suggestion_2[item]:\n",
    "                score += 1\n",
    "            elif (suggestion_1[item] == \"Strongly Recommended\" and suggestion_2[item] == \"Recommended\") or (suggestion_1[item] == \"Recommended\" and suggestion_2[item] == \"Strongly Recommended\"):\n",
    "                score += 0.5\n",
    "\n",
    "        return score/len(unseen)\n",
    "    else:\n",
    "        return 0"
   ]
  },
  {
   "cell_type": "markdown",
   "metadata": {},
   "source": [
    "**User-based vs Matrix factorization:**"
   ]
  },
  {
   "cell_type": "code",
   "execution_count": 7,
   "metadata": {},
   "outputs": [],
   "source": [
    "#Train the Factorization:\n",
    "U, I, E = factorization(df, n_factors = 14, steps = 2000)\n",
    "factorized = np.dot(U, I)\n",
    "predictions = pd.DataFrame(factorized, columns = df.columns)"
   ]
  },
  {
   "cell_type": "code",
   "execution_count": 10,
   "metadata": {},
   "outputs": [
    {
     "name": "stdout",
     "output_type": "stream",
     "text": [
      "Comparison score: 0.6821675035614955\n"
     ]
    }
   ],
   "source": [
    "#Compare the class-assignment for all the users:\n",
    "score = 0\n",
    "\n",
    "for target in df.index:\n",
    "    neighbors, valid = nearestUB(df, target)\n",
    "    ratings = compute_ratings(df, neighbors, valid, target)\n",
    "    s1 = suggestUB(target, ratings)\n",
    "    s2 = suggestMF(df, predictions, target)\n",
    "    \n",
    "    s1 = encoding(df, target, s1)\n",
    "    s2 = encoding(df, target, s2)\n",
    "    \n",
    "    score += compare(df, target, s1, s2)\n",
    "    \n",
    "print(\"Comparison score: \" + str(score/len(df.index)))"
   ]
  },
  {
   "cell_type": "markdown",
   "metadata": {},
   "source": [
    "**Item-based vs Matrix Factorization:**"
   ]
  },
  {
   "cell_type": "code",
   "execution_count": 11,
   "metadata": {},
   "outputs": [
    {
     "name": "stdout",
     "output_type": "stream",
     "text": [
      "Comparison score: 0.2622521222555744\n"
     ]
    }
   ],
   "source": [
    "#Compare the class-assignment for all the users:\n",
    "score = 0\n",
    "\n",
    "for target in df.index:\n",
    "    unseen = df.iloc[target][np.isnan(df.iloc[target])].index\n",
    "    favourites = search_favourite(df, target, unseen)\n",
    "    neighbors = nearestIB(df, target, favourites, unseen)\n",
    "    s1 = suggestIB(target, neighbors, unseen)\n",
    "    \n",
    "    s2 = suggestMF(df, predictions, target)\n",
    "    s2 = encoding(df, target, s2)\n",
    "    \n",
    "    score += compare(df, target, s1, s2)\n",
    "    \n",
    "print(\"Comparison score: \" + str(score/len(df.index)))"
   ]
  },
  {
   "cell_type": "markdown",
   "metadata": {},
   "source": [
    "**User-based vs Item-based:**"
   ]
  },
  {
   "cell_type": "code",
   "execution_count": 14,
   "metadata": {},
   "outputs": [
    {
     "name": "stdout",
     "output_type": "stream",
     "text": [
      "Comparison score: 0.19846954067801634\n"
     ]
    }
   ],
   "source": [
    "#Compare the class-assignment for all the users:\n",
    "score = 0\n",
    "\n",
    "for target in df.index:\n",
    "    unseen = df.iloc[target][np.isnan(df.iloc[target])].index\n",
    "    favourites = search_favourite(df, target, unseen)\n",
    "    neighbors1 = nearestIB(df, target, favourites, unseen)\n",
    "    s1 = suggestIB(target, neighbors1, unseen)\n",
    "    \n",
    "    neighbors2, valid2 = nearestUB(df, target)\n",
    "    ratings = compute_ratings(df, neighbors2, valid2, target)\n",
    "    s2 = suggestUB(target, ratings)    \n",
    "    \n",
    "    s2 = encoding(df, target, s2)\n",
    "    \n",
    "    score += compare(df, target, s1, s2)\n",
    "    \n",
    "print(\"Comparison score: \" + str(score/len(df.index)))"
   ]
  }
 ],
 "metadata": {
  "kernelspec": {
   "display_name": "Python 3",
   "language": "python",
   "name": "python3"
  },
  "language_info": {
   "codemirror_mode": {
    "name": "ipython",
    "version": 3
   },
   "file_extension": ".py",
   "mimetype": "text/x-python",
   "name": "python",
   "nbconvert_exporter": "python",
   "pygments_lexer": "ipython3",
   "version": "3.8.5"
  }
 },
 "nbformat": 4,
 "nbformat_minor": 4
}
